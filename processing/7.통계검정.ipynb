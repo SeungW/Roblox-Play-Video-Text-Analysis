{
 "cells": [
  {
   "cell_type": "markdown",
   "id": "2d9f3f38",
   "metadata": {},
   "source": [
    "# Module Import "
   ]
  },
  {
   "cell_type": "code",
   "execution_count": 1,
   "id": "5335cb0d",
   "metadata": {},
   "outputs": [
    {
     "name": "stdout",
     "output_type": "stream",
     "text": [
      "Defaulting to user installation because normal site-packages is not writeable\n",
      "Requirement already satisfied: statannot in /home/jihoonmanse/.local/lib/python3.8/site-packages (0.2.3)\n",
      "\n",
      "\u001b[1m[\u001b[0m\u001b[34;49mnotice\u001b[0m\u001b[1;39;49m]\u001b[0m\u001b[39;49m A new release of pip is available: \u001b[0m\u001b[31;49m23.0.1\u001b[0m\u001b[39;49m -> \u001b[0m\u001b[32;49m23.1.2\u001b[0m\n",
      "\u001b[1m[\u001b[0m\u001b[34;49mnotice\u001b[0m\u001b[1;39;49m]\u001b[0m\u001b[39;49m To update, run: \u001b[0m\u001b[32;49mpython3 -m pip install --upgrade pip\u001b[0m\n"
     ]
    }
   ],
   "source": [
    "from scipy import stats\n",
    "!pip install statannot\n",
    "from statannot import add_stat_annotation\n",
    "import seaborn as sns\n",
    "import matplotlib.pyplot as plt\n",
    "import pandas as pd\n",
    "import numpy as np"
   ]
  },
  {
   "cell_type": "markdown",
   "id": "95bdcd95",
   "metadata": {},
   "source": [
    "# Data Load"
   ]
  },
  {
   "cell_type": "code",
   "execution_count": 35,
   "id": "18859ee1",
   "metadata": {},
   "outputs": [],
   "source": [
    "## Normalize함\n",
    "result_tfidf = pd.read_excel('/project/Roblox/smcho1201/result_tfidf_norm.xlsx', index_col=0)\n",
    "result_wordcount = pd.read_excel('/project/Roblox/smcho1201/result_wordcount_norm.xlsx',index_col=0)\n",
    "result_fisher = pd.read_excel('/project/Roblox/smcho1201/result_fisher_norm.xlsx',index_col=0)\n",
    "# result_nothing = pd.read_excel('/project/Roblox/smcho1201/result_all_data.xlsx', index_col=0)\n",
    "\n",
    "result_random = pd.read_excel('/project/Roblox/smcho1201/result_random_norm.xlsx', index_col=0)"
   ]
  },
  {
   "cell_type": "code",
   "execution_count": 22,
   "id": "fb6768db",
   "metadata": {},
   "outputs": [],
   "source": [
    "data_tfidf = result_tfidf.copy()\n",
    "data_wordcount = result_wordcount.copy()\n",
    "data_fisher = result_fisher.copy()\n",
    "# data_nothing = result_nothing.copy()\n",
    "data_random = result_random.copy()"
   ]
  },
  {
   "cell_type": "code",
   "execution_count": 23,
   "id": "6c822b1e",
   "metadata": {
    "scrolled": true
   },
   "outputs": [
    {
     "data": {
      "text/plain": [
       "(60, 4)"
      ]
     },
     "execution_count": 23,
     "metadata": {},
     "output_type": "execute_result"
    }
   ],
   "source": [
    "data_tfidf = data_tfidf.T.reset_index()\n",
    "data_tfidf.rename(columns={'index' : 'Model'}, inplace=True)\n",
    "data_tfidf['Method'] = 'TF-IDF'\n",
    "data_tfidf = pd.melt(data_tfidf, id_vars=['Model', 'Method'],\n",
    "        var_name='Try', value_name='value')\n",
    "data_tfidf.shape"
   ]
  },
  {
   "cell_type": "code",
   "execution_count": 24,
   "id": "f1f602e2",
   "metadata": {},
   "outputs": [],
   "source": [
    "data_wordcount = data_wordcount.T.reset_index()\n",
    "data_wordcount.rename(columns={'index' : 'Model'}, inplace=True)\n",
    "data_wordcount['Method'] = 'WordCount'\n",
    "data_wordcount = pd.melt(data_wordcount, id_vars=['Model', 'Method'],\n",
    "        var_name='Try', value_name='value')\n"
   ]
  },
  {
   "cell_type": "code",
   "execution_count": 25,
   "id": "5674af11",
   "metadata": {},
   "outputs": [],
   "source": [
    "data_fisher = data_fisher.T.reset_index()\n",
    "data_fisher.rename(columns={'index' : 'Model'}, inplace=True)\n",
    "data_fisher['Method'] = \"Fisher's Exact Test\" \n",
    "data_fisher = pd.melt(data_fisher, id_vars=['Model', 'Method'],\n",
    "        var_name='Try', value_name='value')"
   ]
  },
  {
   "cell_type": "code",
   "execution_count": 26,
   "id": "b72c046a",
   "metadata": {},
   "outputs": [],
   "source": [
    "data_random = data_random.T.reset_index()\n",
    "data_random.rename(columns={'index' : 'Model'}, inplace=True)\n",
    "data_random['Method'] = \"Random\" \n",
    "data_random = pd.melt(data_random, id_vars=['Model', 'Method'],\n",
    "        var_name='Try', value_name='value')"
   ]
  },
  {
   "cell_type": "code",
   "execution_count": 27,
   "id": "98cbb54e",
   "metadata": {
    "scrolled": true
   },
   "outputs": [
    {
     "data": {
      "text/plain": [
       "(240, 4)"
      ]
     },
     "execution_count": 27,
     "metadata": {},
     "output_type": "execute_result"
    }
   ],
   "source": [
    "alldf = pd.concat([data_fisher, data_tfidf, data_wordcount,data_random], axis=0)\n",
    "alldf.shape"
   ]
  },
  {
   "cell_type": "code",
   "execution_count": 30,
   "id": "d708d39f",
   "metadata": {
    "scrolled": true
   },
   "outputs": [
    {
     "data": {
      "text/html": [
       "<div>\n",
       "<style scoped>\n",
       "    .dataframe tbody tr th:only-of-type {\n",
       "        vertical-align: middle;\n",
       "    }\n",
       "\n",
       "    .dataframe tbody tr th {\n",
       "        vertical-align: top;\n",
       "    }\n",
       "\n",
       "    .dataframe thead th {\n",
       "        text-align: right;\n",
       "    }\n",
       "</style>\n",
       "<table border=\"1\" class=\"dataframe\">\n",
       "  <thead>\n",
       "    <tr style=\"text-align: right;\">\n",
       "      <th></th>\n",
       "      <th>Model</th>\n",
       "      <th>Method</th>\n",
       "      <th>Try</th>\n",
       "      <th>value</th>\n",
       "    </tr>\n",
       "  </thead>\n",
       "  <tbody>\n",
       "    <tr>\n",
       "      <th>0</th>\n",
       "      <td>RandomForest</td>\n",
       "      <td>Fisher's Exact Test</td>\n",
       "      <td>0</td>\n",
       "      <td>1.0</td>\n",
       "    </tr>\n",
       "    <tr>\n",
       "      <th>1</th>\n",
       "      <td>AdaBoost</td>\n",
       "      <td>Fisher's Exact Test</td>\n",
       "      <td>0</td>\n",
       "      <td>0.3</td>\n",
       "    </tr>\n",
       "    <tr>\n",
       "      <th>2</th>\n",
       "      <td>GradientBoosting</td>\n",
       "      <td>Fisher's Exact Test</td>\n",
       "      <td>0</td>\n",
       "      <td>0.6</td>\n",
       "    </tr>\n",
       "    <tr>\n",
       "      <th>3</th>\n",
       "      <td>XGBoost</td>\n",
       "      <td>Fisher's Exact Test</td>\n",
       "      <td>0</td>\n",
       "      <td>1.0</td>\n",
       "    </tr>\n",
       "    <tr>\n",
       "      <th>4</th>\n",
       "      <td>LightGBM</td>\n",
       "      <td>Fisher's Exact Test</td>\n",
       "      <td>0</td>\n",
       "      <td>0.7</td>\n",
       "    </tr>\n",
       "    <tr>\n",
       "      <th>...</th>\n",
       "      <td>...</td>\n",
       "      <td>...</td>\n",
       "      <td>...</td>\n",
       "      <td>...</td>\n",
       "    </tr>\n",
       "    <tr>\n",
       "      <th>235</th>\n",
       "      <td>AdaBoost</td>\n",
       "      <td>Random</td>\n",
       "      <td>9</td>\n",
       "      <td>0.1</td>\n",
       "    </tr>\n",
       "    <tr>\n",
       "      <th>236</th>\n",
       "      <td>GradientBoosting</td>\n",
       "      <td>Random</td>\n",
       "      <td>9</td>\n",
       "      <td>0.1</td>\n",
       "    </tr>\n",
       "    <tr>\n",
       "      <th>237</th>\n",
       "      <td>XGBoost</td>\n",
       "      <td>Random</td>\n",
       "      <td>9</td>\n",
       "      <td>0.1</td>\n",
       "    </tr>\n",
       "    <tr>\n",
       "      <th>238</th>\n",
       "      <td>LightGBM</td>\n",
       "      <td>Random</td>\n",
       "      <td>9</td>\n",
       "      <td>0.1</td>\n",
       "    </tr>\n",
       "    <tr>\n",
       "      <th>239</th>\n",
       "      <td>CatBoost</td>\n",
       "      <td>Random</td>\n",
       "      <td>9</td>\n",
       "      <td>0.1</td>\n",
       "    </tr>\n",
       "  </tbody>\n",
       "</table>\n",
       "<p>240 rows × 4 columns</p>\n",
       "</div>"
      ],
      "text/plain": [
       "                Model               Method Try  value\n",
       "0        RandomForest  Fisher's Exact Test   0    1.0\n",
       "1            AdaBoost  Fisher's Exact Test   0    0.3\n",
       "2    GradientBoosting  Fisher's Exact Test   0    0.6\n",
       "3             XGBoost  Fisher's Exact Test   0    1.0\n",
       "4            LightGBM  Fisher's Exact Test   0    0.7\n",
       "..                ...                  ...  ..    ...\n",
       "235          AdaBoost               Random   9    0.1\n",
       "236  GradientBoosting               Random   9    0.1\n",
       "237           XGBoost               Random   9    0.1\n",
       "238          LightGBM               Random   9    0.1\n",
       "239          CatBoost               Random   9    0.1\n",
       "\n",
       "[240 rows x 4 columns]"
      ]
     },
     "execution_count": 30,
     "metadata": {},
     "output_type": "execute_result"
    }
   ],
   "source": [
    "alldf = alldf.reset_index(drop=True)\n",
    "alldf"
   ]
  },
  {
   "cell_type": "code",
   "execution_count": 31,
   "id": "c5462f7b",
   "metadata": {
    "scrolled": false
   },
   "outputs": [
    {
     "name": "stderr",
     "output_type": "stream",
     "text": [
      "/tmp/ipykernel_981933/3905071756.py:1: FutureWarning: The default value of numeric_only in DataFrameGroupBy.mean is deprecated. In a future version, numeric_only will default to False. Either specify numeric_only or select only columns which should be valid for the function.\n",
      "  alldf[alldf['Method']==\"Fisher's Exact Test\"].groupby('Model').mean().sort_values(by='value', ascending=True)\n"
     ]
    },
    {
     "data": {
      "text/html": [
       "<div>\n",
       "<style scoped>\n",
       "    .dataframe tbody tr th:only-of-type {\n",
       "        vertical-align: middle;\n",
       "    }\n",
       "\n",
       "    .dataframe tbody tr th {\n",
       "        vertical-align: top;\n",
       "    }\n",
       "\n",
       "    .dataframe thead th {\n",
       "        text-align: right;\n",
       "    }\n",
       "</style>\n",
       "<table border=\"1\" class=\"dataframe\">\n",
       "  <thead>\n",
       "    <tr style=\"text-align: right;\">\n",
       "      <th></th>\n",
       "      <th>value</th>\n",
       "    </tr>\n",
       "    <tr>\n",
       "      <th>Model</th>\n",
       "      <th></th>\n",
       "    </tr>\n",
       "  </thead>\n",
       "  <tbody>\n",
       "    <tr>\n",
       "      <th>AdaBoost</th>\n",
       "      <td>0.27</td>\n",
       "    </tr>\n",
       "    <tr>\n",
       "      <th>LightGBM</th>\n",
       "      <td>0.59</td>\n",
       "    </tr>\n",
       "    <tr>\n",
       "      <th>GradientBoosting</th>\n",
       "      <td>0.85</td>\n",
       "    </tr>\n",
       "    <tr>\n",
       "      <th>XGBoost</th>\n",
       "      <td>0.89</td>\n",
       "    </tr>\n",
       "    <tr>\n",
       "      <th>RandomForest</th>\n",
       "      <td>0.93</td>\n",
       "    </tr>\n",
       "    <tr>\n",
       "      <th>CatBoost</th>\n",
       "      <td>0.94</td>\n",
       "    </tr>\n",
       "  </tbody>\n",
       "</table>\n",
       "</div>"
      ],
      "text/plain": [
       "                  value\n",
       "Model                  \n",
       "AdaBoost           0.27\n",
       "LightGBM           0.59\n",
       "GradientBoosting   0.85\n",
       "XGBoost            0.89\n",
       "RandomForest       0.93\n",
       "CatBoost           0.94"
      ]
     },
     "execution_count": 31,
     "metadata": {},
     "output_type": "execute_result"
    }
   ],
   "source": [
    "alldf[alldf['Method']==\"Fisher's Exact Test\"].groupby('Model').mean().sort_values(by='value', ascending=True)"
   ]
  },
  {
   "cell_type": "code",
   "execution_count": 32,
   "id": "2cb1f37f",
   "metadata": {
    "scrolled": true
   },
   "outputs": [
    {
     "name": "stderr",
     "output_type": "stream",
     "text": [
      "/tmp/ipykernel_981933/2539243534.py:1: FutureWarning: The default value of numeric_only in DataFrameGroupBy.mean is deprecated. In a future version, numeric_only will default to False. Either specify numeric_only or select only columns which should be valid for the function.\n",
      "  order_li = list(alldf[alldf['Method']==\"Fisher's Exact Test\"].groupby('Model').mean().sort_values(by='value', ascending=True).index)\n"
     ]
    }
   ],
   "source": [
    "order_li = list(alldf[alldf['Method']==\"Fisher's Exact Test\"].groupby('Model').mean().sort_values(by='value', ascending=True).index)"
   ]
  },
  {
   "cell_type": "code",
   "execution_count": 33,
   "id": "91b2f5ff",
   "metadata": {
    "scrolled": false
   },
   "outputs": [
    {
     "data": {
      "text/plain": [
       "['AdaBoost',\n",
       " 'LightGBM',\n",
       " 'GradientBoosting',\n",
       " 'XGBoost',\n",
       " 'RandomForest',\n",
       " 'CatBoost']"
      ]
     },
     "execution_count": 33,
     "metadata": {},
     "output_type": "execute_result"
    }
   ],
   "source": [
    "order_li"
   ]
  },
  {
   "cell_type": "markdown",
   "id": "26384eb7",
   "metadata": {},
   "source": [
    "# 통계검정"
   ]
  },
  {
   "cell_type": "code",
   "execution_count": 34,
   "id": "655c7ec6",
   "metadata": {},
   "outputs": [
    {
     "data": {
      "text/plain": [
       "18"
      ]
     },
     "execution_count": 34,
     "metadata": {},
     "output_type": "execute_result"
    }
   ],
   "source": [
    "## 예쁘게 만들기 위해서 검정값을 만들어줌\n",
    "pvalues = [0.1, 0.1,0.1,\n",
    "           0.1, 0.05, 0.1,\n",
    "           0.1, 0.05, 0.1,\n",
    "           0.1, 0.01, 0.1,\n",
    "           0.1, 0.1, 0.1,\n",
    "           0.1, 0.1, 0.1]\n",
    "len(pvalues)"
   ]
  },
  {
   "cell_type": "code",
   "execution_count": 17,
   "id": "8cf4ad3d",
   "metadata": {},
   "outputs": [
    {
     "data": {
      "text/plain": [
       "['AdaBoost',\n",
       " 'LightGBM',\n",
       " 'GradientBoosting',\n",
       " 'XGBoost',\n",
       " 'RandomForest',\n",
       " 'CatBoost']"
      ]
     },
     "execution_count": 17,
     "metadata": {},
     "output_type": "execute_result"
    }
   ],
   "source": [
    "order_li"
   ]
  },
  {
   "cell_type": "code",
   "execution_count": 36,
   "id": "392e050c",
   "metadata": {
    "scrolled": false
   },
   "outputs": [
    {
     "name": "stdout",
     "output_type": "stream",
     "text": [
      "p-value annotation legend:\n",
      "ns: 5.00e-02 < p <= 1.00e+00\n",
      "*: 1.00e-02 < p <= 5.00e-02\n",
      "**: 1.00e-03 < p <= 1.00e-02\n",
      "***: 1.00e-04 < p <= 1.00e-03\n",
      "****: p <= 1.00e-04\n",
      "\n",
      "Using zero_method  pratt\n",
      "XGBoost_TF-IDF v.s. XGBoost_Fisher's Exact Test: Wilcoxon test (paired samples), P_val=7.815e-01 stat=1.750e+01\n",
      "Using zero_method  pratt\n",
      "GradientBoosting_TF-IDF v.s. GradientBoosting_Fisher's Exact Test: Wilcoxon test (paired samples), P_val=8.718e-02 stat=6.500e+00\n",
      "Using zero_method  pratt\n",
      "LightGBM_TF-IDF v.s. LightGBM_Fisher's Exact Test: Wilcoxon test (paired samples), P_val=4.543e-01 stat=1.550e+01\n",
      "Using zero_method  pratt\n",
      "RandomForest_TF-IDF v.s. RandomForest_Fisher's Exact Test: Wilcoxon test (paired samples), P_val=8.326e-02 stat=0.000e+00\n",
      "Using zero_method  pratt\n",
      "CatBoost_TF-IDF v.s. CatBoost_Fisher's Exact Test: Wilcoxon test (paired samples), P_val=8.151e-03 stat=0.000e+00\n",
      "Using zero_method  pratt\n",
      "CatBoost_WordCount v.s. CatBoost_Fisher's Exact Test: Wilcoxon test (paired samples), P_val=5.666e-03 stat=0.000e+00\n"
     ]
    },
    {
     "name": "stderr",
     "output_type": "stream",
     "text": [
      "/package/anaconda3.8/lib/python3.8/site-packages/scipy/stats/morestats.py:3141: UserWarning: Exact p-value calculation does not work if there are ties. Switching to normal approximation.\n",
      "  warnings.warn(\"Exact p-value calculation does not work if there are \"\n"
     ]
    },
    {
     "name": "stdout",
     "output_type": "stream",
     "text": [
      "Using zero_method  pratt\n",
      "RandomForest_WordCount v.s. RandomForest_Fisher's Exact Test: Wilcoxon test (paired samples), P_val=7.325e-03 stat=0.000e+00\n",
      "Using zero_method  pratt\n",
      "XGBoost_WordCount v.s. XGBoost_Fisher's Exact Test: Wilcoxon test (paired samples), P_val=1.953e-03 stat=0.000e+00\n",
      "Using zero_method  pratt\n",
      "GradientBoosting_WordCount v.s. GradientBoosting_Fisher's Exact Test: Wilcoxon test (paired samples), P_val=1.085e-02 stat=0.000e+00\n",
      "Using zero_method  pratt\n",
      "LightGBM_WordCount v.s. LightGBM_Fisher's Exact Test: Wilcoxon test (paired samples), P_val=9.574e-01 stat=2.200e+01\n",
      "Using zero_method  pratt\n",
      "AdaBoost_WordCount v.s. AdaBoost_Fisher's Exact Test: Wilcoxon test (paired samples), P_val=1.573e-01 stat=0.000e+00\n",
      "Using zero_method  pratt\n",
      "RandomForest_Random v.s. RandomForest_Fisher's Exact Test: Wilcoxon test (paired samples), P_val=1.953e-03 stat=0.000e+00\n",
      "Using zero_method  pratt\n",
      "CatBoost_Random v.s. CatBoost_Fisher's Exact Test: Wilcoxon test (paired samples), P_val=1.953e-03 stat=0.000e+00\n",
      "Using zero_method  pratt\n",
      "XGBoost_Random v.s. XGBoost_Fisher's Exact Test: Wilcoxon test (paired samples), P_val=1.953e-03 stat=0.000e+00\n",
      "Using zero_method  pratt\n",
      "GradientBoosting_Random v.s. GradientBoosting_Fisher's Exact Test: Wilcoxon test (paired samples), P_val=1.953e-03 stat=0.000e+00\n",
      "Using zero_method  pratt\n",
      "LightGBM_Random v.s. LightGBM_Fisher's Exact Test: Wilcoxon test (paired samples), P_val=1.953e-03 stat=0.000e+00\n",
      "Using zero_method  pratt\n",
      "AdaBoost_Random v.s. AdaBoost_Fisher's Exact Test: Wilcoxon test (paired samples), P_val=7.325e-03 stat=0.000e+00\n"
     ]
    },
    {
     "data": {
      "image/png": "[encoded data removed]",
      "text/plain": [
       "<Figure size 3000x1800 with 1 Axes>"
      ]
     },
     "metadata": {
      "needs_background": "light"
     },
     "output_type": "display_data"
    },
    {
     "data": {
      "text/plain": [
       "(<AxesSubplot:ylabel='Accuracy'>,\n",
       " [<statannot.StatResult.StatResult at 0x7f7164a19ca0>,\n",
       "  <statannot.StatResult.StatResult at 0x7f7164be2a00>,\n",
       "  <statannot.StatResult.StatResult at 0x7f7164c5ef10>,\n",
       "  <statannot.StatResult.StatResult at 0x7f71649ddee0>,\n",
       "  <statannot.StatResult.StatResult at 0x7f71649ddfd0>,\n",
       "  <statannot.StatResult.StatResult at 0x7f7164bd5730>,\n",
       "  <statannot.StatResult.StatResult at 0x7f71649c77c0>,\n",
       "  <statannot.StatResult.StatResult at 0x7f7164a19ee0>,\n",
       "  <statannot.StatResult.StatResult at 0x7f71649f3730>,\n",
       "  <statannot.StatResult.StatResult at 0x7f71649ddac0>,\n",
       "  <statannot.StatResult.StatResult at 0x7f71649dd850>,\n",
       "  <statannot.StatResult.StatResult at 0x7f7164caff40>,\n",
       "  <statannot.StatResult.StatResult at 0x7f7164cafee0>,\n",
       "  <statannot.StatResult.StatResult at 0x7f71649da730>,\n",
       "  <statannot.StatResult.StatResult at 0x7f7164c3cfd0>,\n",
       "  <statannot.StatResult.StatResult at 0x7f7164995df0>,\n",
       "  <statannot.StatResult.StatResult at 0x7f71649ad820>])"
      ]
     },
     "execution_count": 36,
     "metadata": {},
     "output_type": "execute_result"
    }
   ],
   "source": [
    "\n",
    "hue_order = ['Random', 'WordCount', 'TF-IDF', \"Fisher's Exact Test\"]\n",
    "\n",
    "\n",
    "fig = plt.figure(figsize=(10,6), dpi=300)\n",
    "ax = fig.subplots()\n",
    "_=sns.barplot(data=alldf,x = 'Model',y='value', estimator=np.mean,\n",
    "              hue='Method', hue_order = hue_order,\n",
    "            order = order_li, ax=ax)\n",
    "_=ax.set_xticklabels(ax.get_xticklabels(), fontsize=10)\n",
    "\n",
    "########################## 통계적 검점 ###########################\n",
    "box_pairs=[\n",
    "    (('RandomForest',\"Fisher's Exact Test\"),('RandomForest','TF-IDF')),      #ns\n",
    "    (('RandomForest',\"Fisher's Exact Test\"),('RandomForest','WordCount')),  #ns\n",
    "    (('RandomForest',\"Fisher's Exact Test\"),('RandomForest','Random')),  #ns\n",
    "    \n",
    "    (('CatBoost',\"Fisher's Exact Test\"),('CatBoost','TF-IDF')), #ns\n",
    "    (('CatBoost',\"Fisher's Exact Test\"),('CatBoost','WordCount')), # * 1개\n",
    "    (('CatBoost',\"Fisher's Exact Test\"),('CatBoost','Random')), # ns\n",
    "    \n",
    "    (('XGBoost',\"Fisher's Exact Test\"),('XGBoost','TF-IDF')), #ns\n",
    "    (('XGBoost',\"Fisher's Exact Test\"),('XGBoost','WordCount')), # * 1개\n",
    "    (('XGBoost',\"Fisher's Exact Test\"),('XGBoost','Random')), # ns\n",
    "    \n",
    "    (('GradientBoosting',\"Fisher's Exact Test\"),('GradientBoosting','TF-IDF')), #ns\n",
    "    (('GradientBoosting',\"Fisher's Exact Test\"),('GradientBoosting','WordCount')), # * 2개\n",
    "    (('GradientBoosting',\"Fisher's Exact Test\"),('GradientBoosting','Random')), # ns\n",
    "    \n",
    "    (('LightGBM',\"Fisher's Exact Test\"),('LightGBM','TF-IDF')), #ns\n",
    "    (('LightGBM',\"Fisher's Exact Test\"),('LightGBM','WordCount')), #ns\n",
    "    (('LightGBM',\"Fisher's Exact Test\"),('LightGBM','Random')), #ns\n",
    "    \n",
    "#     (('AdaBoost',\"Fisher's Exact Test\"),('AdaBoost','TF-IDF')), #ns\n",
    "    (('AdaBoost',\"Fisher's Exact Test\"),('AdaBoost','WordCount')), #ns\n",
    "    (('AdaBoost',\"Fisher's Exact Test\"),('AdaBoost','Random')) #ns\n",
    "]\n",
    "\n",
    "\n",
    "pvalues = [0.1, 0.1,0.1,\n",
    "           0.1, 0.05, 0.1,\n",
    "           0.1, 0.05, 0.1,\n",
    "           0.1, 0.01, 0.1,\n",
    "           0.1, 0.1, 0.1,\n",
    "           0.1, 0.1, 0.1]\n",
    "\n",
    "\n",
    "\n",
    "result_wilcoxon = add_stat_annotation(ax, data=alldf, x='Model', y='value',\n",
    "                                      hue='Method', order=order_li,\n",
    "                                      hue_order = hue_order, \n",
    "                                      box_pairs=box_pairs,\n",
    "                                      test='Wilcoxon',\n",
    "#                                       test=None,\n",
    "#                                       perform_stat_test=False,\n",
    "#                                       pvalues=pvalues,\n",
    "                                      text_format='star',\n",
    "                                      comparisons_correction=None,\n",
    "                                      loc='inside', verbose=2, fontsize=8)\n",
    "# _=ax.set_ylim(0,1.19)\n",
    "_=ax.set_ylabel('Accuracy', fontsize=10)\n",
    "_=ax.set_xlabel('')\n",
    "_=ax.get_legend().remove()\n",
    "plt.show()\n",
    "result_wilcoxon"
   ]
  }
 ],
 "metadata": {
  "kernelspec": {
   "display_name": "Python 3 (ipykernel)",
   "language": "python",
   "name": "python3"
  },
  "language_info": {
   "codemirror_mode": {
    "name": "ipython",
    "version": 3
   },
   "file_extension": ".py",
   "mimetype": "text/x-python",
   "name": "python",
   "nbconvert_exporter": "python",
   "pygments_lexer": "ipython3",
   "version": "3.8.11"
  },
  "toc": {
   "base_numbering": 1,
   "nav_menu": {},
   "number_sections": true,
   "sideBar": false,
   "skip_h1_title": false,
   "title_cell": "Table of Contents",
   "title_sidebar": "Contents",
   "toc_cell": false,
   "toc_position": {
    "height": "866.667px",
    "left": "24px",
    "top": "111.441px",
    "width": "426.667px"
   },
   "toc_section_display": true,
   "toc_window_display": true
  }
 },
 "nbformat": 4,
 "nbformat_minor": 5
}
